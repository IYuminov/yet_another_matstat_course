{
 "cells": [
  {
   "cell_type": "markdown",
   "id": "9074d943",
   "metadata": {},
   "source": [
    "<center>\n",
    "<img src=\"https://imgs.xkcd.com/comics/convincing.png\" height=\"200\"> \n",
    "\n",
    "# Прикладаная статистика: домашнее задание 1\n",
    "</center>\n",
    "\n",
    "\n",
    "> И обратился я, и видел под солнцем,  <br> \n",
    "> что не проворным достаётся успешный бег, <br> \n",
    "> не храбрым — победа, <br> \n",
    "> не мудрым — хлеб, <br> \n",
    "> и не у разумных — богатство,  <br> \n",
    "> и не искусным — благорасположение, <br> \n",
    "> но время и случай для всех их. <br> \n",
    "\n",
    "$\\qquad$ $\\qquad$ $\\qquad$ $\\qquad$ 🔥👩‍🚀☦️ **Екклесиаст 9:11**"
   ]
  },
  {
   "cell_type": "markdown",
   "id": "153348a7",
   "metadata": {},
   "source": [
    "**ФИО:**\n",
    "\n",
    "**Факт о себе:**\n",
    "\n",
    "**Бонус (1 балл):**  Прикрепите фотографию того, как вы начали этот февраль. Какую самую классную эмоцию вы испытали за прошедший месяц?"
   ]
  },
  {
   "cell_type": "markdown",
   "id": "f40dc119",
   "metadata": {},
   "source": [
    "## Общая информация\n",
    "\n",
    "\n",
    "__Дата выдачи:__ 27.02.2024\n",
    "\n",
    "__Мягкий дедлайн:__ 23:59MSK 24.03.2024\n",
    "\n",
    "__Жёсткий дедлайн:__ 23:59MSK 31.03.2024"
   ]
  },
  {
   "cell_type": "markdown",
   "id": "58abed2e",
   "metadata": {},
   "source": [
    "## Формат сдачи\n",
    "\n",
    "Сам ноутбук называйте в формате hw-01-NUM-USERNAME.ipynb, где NUM — номер из вашего логина, а USERNAME — ваши фамилия и имя. Файл надо будет, как обычно, сдать в anytask."
   ]
  },
  {
   "cell_type": "markdown",
   "id": "23434b16",
   "metadata": {},
   "source": [
    "## Оформление"
   ]
  },
  {
   "cell_type": "markdown",
   "id": "8ce4c5db",
   "metadata": {},
   "source": [
    "1. Be good, drink milk and [think of Russia](https://www.youtube.com/watch?v=jyxSFfBKMxQ)\n",
    "2. Обязательно фиксируйте зерно генератора случайных чисел в экспериментах. При перезапуске кода значения не должны меняться.\n",
    "3. Вверху файла подпишите фамилию, имя, группу и какой-то занимательный факт о себе.\n",
    "4. Обратите внимание, что у графиков должны быть подписаны оси, заголовок графика и при необходимости обязательно наличие легенды. \n",
    "\n",
    "> За отсутствие названий графиков и подписей к осям могут снижаться баллы. Все картинки должны быть самодостаточны и визуально удобны для восприятия, так чтобы не нужно было смотреть ваш код или знать задание, чтобы понять что на них изображено.\n",
    "\n",
    "\n",
    "Для каждого построенного графика делайте выводы. Эти выводы не должны быть поверхностными и очевидными. Не будьте мудрым королём.\n",
    "\n",
    "<br>\n",
    "\n",
    "<center>\n",
    "<img src=\"https://raw.githubusercontent.com/hse-econ-data-science/andan_2023/main/hw/king.png\" width=\"300\"> \n",
    "</center>\n",
    "\n",
    "**Пример плохого вывода:** Синенькая линия идет вверх, а красная вниз. Черненькая идет вниз, а потом вверх. \n",
    "\n",
    "<br>\n",
    "\n",
    "<center>\n",
    "<img src=\"https://raw.githubusercontent.com/hse-econ-data-science/andan_2023/main/hw/bad_lines.png\" width=\"600\"> \n",
    "</center>"
   ]
  },
  {
   "cell_type": "markdown",
   "id": "6f6b8143",
   "metadata": {},
   "source": [
    "Это домашнее задание состоит из двух частей: \n",
    "\n",
    "- Часть с кодом\n",
    "- Часть с ручными задачами\n",
    "\n",
    "Часть с кодом должна быть оформлена на в юпитерской тетрадке. Весь код необходимо писать на python.\n",
    "\n",
    "Ручную часть можно решать на бумаге и оформить в виде отсканированной pdf-ки с разборчивым почерком. Можно вбить решение в виде формул прямо в юпитерскую тетрадку, можно сделать pdf-ку в техе."
   ]
  },
  {
   "attachments": {},
   "cell_type": "markdown",
   "id": "d26062a4",
   "metadata": {},
   "source": [
    "## Часть 1: ручная\n",
    "\n",
    "За эту часть можно набрать 40 баллов.\n",
    "\n",
    "Условия задач [лежат по ссылке](https://github.com/FUlyankin/yet_another_matstat_course/blob/main/hw_2024/yam_hw01-interstellar_tasks.pdf)"
   ]
  },
  {
   "cell_type": "markdown",
   "id": "725d5cbc",
   "metadata": {},
   "source": [
    "## Часть 2: симуляции\n",
    "\n",
    "За эту часть можно набрать 70 баллов.\n",
    "\n",
    "P.S. 10 баллов бонусные."
   ]
  },
  {
   "cell_type": "markdown",
   "id": "f1602605",
   "metadata": {},
   "source": [
    "### Задача 1: про нашу жизнь и удачу (15 баллов)\n",
    "\n",
    "Задача была вдохновлена [вот этим видео.](https://www.youtube.com/watch?v=3LopI4YeC4I)\n",
    "\n",
    "Люди часто недооценивают роль случайности в своей жизни. Им кажется, что если они прокачают свои навыки и отдадутся полностью работе, они обязательно достигнут успеха. Люди забывают, что удача тоже важна. Иногда слишком.\n",
    "\n",
    "Пусть у нас в выборке есть $10000$ кандидатов в космонавты. Из них только $10$ человек пройдут все испытания и приступят к тренировкам. Отбор в космонавты на $95\\%$ зависит от навыков кандидата и на $5\\%$ от его удачливости. Навыки и удачливость не зависят друг от друга.\n",
    "\n",
    "__а) [3 балла]__  Сгенерируйте навык каждого кандидата из равномерного распределения на отрезке $[0; 1]$. По аналогии сгенирируйте удачливость каждого кандидата. Итоговую величину, по которой будет производиться отбор в космонавты, рассчитайте по формуле: \n",
    "\n",
    "$$\n",
    "\\text{score} = 0.95 \\cdot \\text{skill} + 0.05 \\cdot \\text{luck}.\n",
    "$$\n",
    "\n",
    "Повторите эту симуляцию $10^4$ раз. Оцените среднее значение удачливости тех, кто стал космонавтом. Постройте гистограмму для распределения удачи среди тех, кто стал космонавтом.\n",
    "\n",
    "**Hint:** обратите внимание на функцию `np.argpartition`. Она поможет вам сделать код проще. Также обратите внимание, что в пунктах б) и в) нужно переиспользовать результаты симуляций из пункта а). Иначе код будет работать слишком долго."
   ]
  },
  {
   "cell_type": "code",
   "execution_count": 1,
   "id": "d7ee6f49",
   "metadata": {},
   "outputs": [
    {
     "name": "stderr",
     "output_type": "stream",
     "text": [
      "c:\\Anaconda3\\lib\\site-packages\\scipy\\__init__.py:146: UserWarning: A NumPy version >=1.16.5 and <1.23.0 is required for this version of SciPy (detected version 1.26.4\n",
      "  warnings.warn(f\"A NumPy version >={np_minversion} and <{np_maxversion}\"\n"
     ]
    }
   ],
   "source": [
    "# импорты всяких нужностей \n",
    "import numpy as np\n",
    "import matplotlib.pyplot as plt\n",
    "import scipy.stats as sts"
   ]
  },
  {
   "cell_type": "code",
   "execution_count": 13,
   "id": "a059142a",
   "metadata": {},
   "outputs": [
    {
     "name": "stdout",
     "output_type": "stream",
     "text": [
      "Средняя удача космонавтов: 0.9493690597485461\n",
      "Удача в среднем у всех кандидатов 0.4953761948496435\n"
     ]
    },
    {
     "data": {
      "image/png": "[encoded data removed]",
      "text/plain": [
       "<Figure size 432x288 with 1 Axes>"
      ]
     },
     "metadata": {
      "needs_background": "light"
     },
     "output_type": "display_data"
    }
   ],
   "source": [
    "np.random.seed(10)\n",
    "n_candidates = 10000\n",
    "n_astronauts = 10\n",
    "\n",
    "def calculate_score(n_candidates):\n",
    "    skills = []\n",
    "    lucks = []\n",
    "    scores = []\n",
    "    for _ in range(n_candidates):\n",
    "        uniform_skill = sts.uniform(0, 1)\n",
    "        uniform_luck = sts.uniform(0, 1)\n",
    "        skill = uniform_skill.rvs()\n",
    "        luck = uniform_luck.rvs()\n",
    "        skills.append(skill)\n",
    "        lucks.append(luck)\n",
    "        scores.append(0.95 * skill + 0.05 * luck)\n",
    "    return skills, lucks, scores\n",
    "\n",
    "# оценки для кандидатов и их показатели удачи и умений \n",
    "skills_candidates, lucks_candidates, scores = calculate_score(n_candidates)\n",
    "\n",
    "# индексы кандидатов, которые стали космонавтами \n",
    "index_astronauts = np.argpartition(scores, -n_astronauts)[-n_astronauts:]\n",
    "\n",
    "# показатели удачи для тех, кто стал космонавтом\n",
    "lucks_astronauts = np.take(lucks_candidates, index_astronauts)\n",
    "\n",
    "print('Средняя удача космонавтов:', np.mean(lucks_astronauts))\n",
    "print('Удача в среднем у всех кандидатов', np.mean(lucks_candidates))\n",
    "\n",
    "n_bins = len(lucks_astronauts)\n",
    "plt.title('Распределение удачи для космонавтов')\n",
    "plt.hist(lucks_astronauts, bins=n_bins)\n",
    "plt.xlabel('Величина удачи')\n",
    "plt.ylabel('Количество таких наблюдений в бине')\n",
    "plt.show()"
   ]
  },
  {
   "cell_type": "markdown",
   "id": "f71cc323",
   "metadata": {},
   "source": [
    "__б) [3 балла]__  Отберите космонавтов по навыкам, `skill`. Оцените с помощью симуляций, на сколько в среднем человек топ кандидатов по `skill` пересекается с топом по `score`."
   ]
  },
  {
   "cell_type": "code",
   "execution_count": 3,
   "id": "6b70f6c1",
   "metadata": {},
   "outputs": [
    {
     "name": "stdout",
     "output_type": "stream",
     "text": [
      "Кто из лучших по навыкам кандидатов стал космонавтом: []\n"
     ]
    }
   ],
   "source": [
    "# your code here\n",
    "# ٩(ˊ〇ˋ*)و\n",
    "\n",
    "# индексы кандидатов с самым высоким показателем навыков \n",
    "index_astronauts_skills = np.argpartition(skills_candidates, -n_astronauts)[-n_astronauts:]\n",
    "\n",
    "print('Кто из лучших по навыкам кандидатов стал космонавтом:', np.intersect1d(index_astronauts, index_astronauts_skills))"
   ]
  },
  {
   "cell_type": "markdown",
   "id": "5fc0d4e1",
   "metadata": {},
   "source": [
    "__в) [3 балла]__ А что будет, если мы будем отбирать больше космонавтов? \n",
    "\n",
    "Для каждого $n$ от $10$ до $500$ с шагом в $10$ сделайте процедуру отбора в космонавты топ-$n$ кандидатов по `skill` и по `score`. Посчитайте, на сколько в среднем процентов отличаются эти топы. Изобразите получившуюсья зависимость на графике. По оси абсцисс отложите $n$, по оси ординат процент пересечения."
   ]
  },
  {
   "cell_type": "code",
   "execution_count": 4,
   "id": "c7983430",
   "metadata": {},
   "outputs": [
    {
     "data": {
      "image/png": "[encoded data removed]",
      "text/plain": [
       "<Figure size 432x288 with 1 Axes>"
      ]
     },
     "metadata": {
      "needs_background": "light"
     },
     "output_type": "display_data"
    }
   ],
   "source": [
    "# your code here\n",
    "# (っ˘ڡ˘ς)\n",
    "n = []\n",
    "percentage_intersection = []\n",
    "\n",
    "for n_astr in range(10, 510, 10):\n",
    "    idx_astronauts = np.argpartition(scores, -n_astr)[-n_astr:] # индексы кандидатов, которые стали космонавтами\n",
    "    idx_astronauts_skills = np.argpartition(skills_candidates, -n_astr)[-n_astr:] # индексы кандидатов с самым высоким показателем навыков\n",
    "    n.append(n_astr) # список n для оси абсцисс\n",
    "    percentage_intersection.append(100 * len(np.intersect1d(idx_astronauts, idx_astronauts_skills)) / n_astr) # список процентов пересечений для оси ординат\n",
    "\n",
    "plt.title('Зависимость количества отбираемых космонавтов \\n и процента совпадений при разных способах оценивания')\n",
    "plt.plot(n, percentage_intersection)\n",
    "plt.xlabel('Количество совпадений в оценке космонавтов по навыкам и score')\n",
    "plt.ylabel('Процент совпадения')\n",
    "plt.show()"
   ]
  },
  {
   "cell_type": "markdown",
   "id": "ce6df80c",
   "metadata": {},
   "source": [
    "__г) [3 балла]__ Сделайте выводы из проделанных рассчётов.\n",
    "\n",
    "__Ответ:__  Как показывает этот эксперимент, что бы быть лучшим среди огромного числа кандидатов, и очень малом числе вакантов, не достаточно быть просто лучшим - нужно обладать высокими показателями многих других факторов (например, удача - 0.9, это достаточно высокий показатель); Чем жестче условия отбора, тем больше различных факторов становятся значимыми и определяющими. Однако, с тем, как число вакантов будет увеличиваться и снижаться конкурс на одно место, снижается влияние сторонних факторов.  "
   ]
  },
  {
   "cell_type": "markdown",
   "id": "9c89650d",
   "metadata": {},
   "source": [
    "> Повод ли это грустить? Конечно же, нет. Если вы попытались схватиться за одну из возможностей и у вас ничего не вышло, забудьте об этом. Не впадайте в депрессию, продолжайте пытаться. В мире есть столько возможностей, которые можно упустить. Обидно будет, если вы не попробуете ещё. Рано или поздно удача вам улыбнётся ❤️❤️❤️\n",
    "\n",
    "Давайте попробуем понять, когда именно она вам улыбнётся. "
   ]
  },
  {
   "cell_type": "markdown",
   "id": "273bc8ae",
   "metadata": {},
   "source": [
    "__д) [2 балл]__ Юра хочет стать космонавтом. У него довольно хорошо развиты навыки. Юра входит в $1\\%$ лучших, его `score = 0.99` (Юра прокачал свои навыки до 0.99 и вообще не полагается на удачу). С какой вероятностью Юра станет космонавтом?"
   ]
  },
  {
   "cell_type": "code",
   "execution_count": 5,
   "id": "a9241174",
   "metadata": {},
   "outputs": [
    {
     "name": "stdout",
     "output_type": "stream",
     "text": [
      "Без удачи Юра с хорошими навыками станет космонавтом с вероятностью 0.098\n"
     ]
    }
   ],
   "source": [
    "# your code here\n",
    "# ٩(x̯x)۶\n",
    "skills_0_99 = len(np.array(skills_candidates)[np.array(skills_candidates) > 0.99]) # количество кандидатов у которых навык равен 0.99\n",
    "Yura_prob_astronaut = n_astronauts / skills_0_99\n",
    "print(f'Без удачи Юра с хорошими навыками станет космонавтом с вероятностью {round(Yura_prob_astronaut, 3)}')"
   ]
  },
  {
   "cell_type": "markdown",
   "id": "8b7468fb",
   "metadata": {},
   "source": [
    "__е) [1 балл]__ Юра пытается снова и снова. Сколько в среднем попыток ему надо сделать до первого успеха? \n",
    "\n",
    "__Hint:__ тут не нужно ничего симулировать. Надо вспомнить про геометрическое распределение и его математическое ожидание."
   ]
  },
  {
   "cell_type": "code",
   "execution_count": 6,
   "id": "1b8060d9",
   "metadata": {},
   "outputs": [
    {
     "name": "stdout",
     "output_type": "stream",
     "text": [
      "Матожидание количества попыток до первого успеха Юры быть космонавтом: 10.2\n"
     ]
    }
   ],
   "source": [
    "# your code here\n",
    "# (＠_＠)\n",
    "print('Матожидание количества попыток до первого успеха Юры быть космонавтом:', 1 / Yura_prob_astronaut)"
   ]
  },
  {
   "cell_type": "markdown",
   "id": "57a46353",
   "metadata": {},
   "source": [
    "### Задача 2: свойства оценок (5 баллов)\n",
    "\n",
    "У Дианы есть выборка $X_1, \\dots, X_n \\sim iid \\, {N}(0, \\sigma^2)$. Она собирается использовать для параметра $\\sigma$ нестандартную оценку $\\hat \\sigma = \\frac{1}{n} \\sum_{i=1}^n |x_i|$. \n",
    "\n",
    "Пусть природа решила, что $\\sigma^2 = 16$. \n",
    "\n",
    "__а) [2.5 балла]__ С помощью симуляций проверьте несмещённость оценки, состоятельность оценки.\n",
    "\n",
    "__б) [2.5 балла]__ В ручной части вам надо решить эту задачу руками. Там вы получили скорректированную на смещение $\\hat \\sigma.$ Постройте на одном графике распределение для неё и для классической $\\hat s$. Какая из них эффективнее? \n",
    "\n",
    "P.S. [несколько видео, которое помогут иши тут](https://www.youtube.com/watch?v=arYqiJcyE2s&list=PLCf-cQCe1FRxdjkT1RjdmuFeco11U8ZIP)"
   ]
  },
  {
   "cell_type": "code",
   "execution_count": null,
   "id": "0e0462a3",
   "metadata": {},
   "outputs": [],
   "source": [
    "# your code here  \n",
    "# ٩(⁎❛ᴗ❛⁎)۶"
   ]
  },
  {
   "cell_type": "markdown",
   "id": "1f2240f0",
   "metadata": {},
   "source": [
    "### Задача 3: парковки от мэра (15 баллов)\n",
    "\n",
    "Перед выборами в центре города открыли неразмеченную парковку длиной $100$ метров. Каждый приезжающий водитель случайным образом выбирает место длиной $2$ метра, и если место оказалось свободным, встает на парковку до конца дня. Если он не помещается в выбранный отрезок, то водитель в нервном состоянии уезжает с парковки. За один день на парковку пытается встать $1000$ проезжающих мимо водителей. Для выполнения всех пунктов заданий проведите $2000$ симуляций. \n",
    "\n",
    "**Hint:** Для простоты будем считать, что выбор точки на парковке - это центр машины.\n",
    "\n",
    "__а) [2.5 балла]__  В среднем сколько машин оказываются припаркованы к концу дня?"
   ]
  },
  {
   "cell_type": "code",
   "execution_count": null,
   "id": "b76b41dd",
   "metadata": {},
   "outputs": [],
   "source": [
    "# your code here \n",
    "# (っ˘ڡ˘ς)\n",
    "\n"
   ]
  },
  {
   "cell_type": "markdown",
   "id": "4bc76fae",
   "metadata": {},
   "source": [
    "__б) [2.5 балла]__ Постройте $95$\\%-ый доверительный интервал для ожидаемого количества машин припаркованных к концу дня."
   ]
  },
  {
   "cell_type": "code",
   "execution_count": null,
   "id": "42d51b08",
   "metadata": {},
   "outputs": [],
   "source": [
    "# your code here \n",
    "# ٩(x̯x)۶"
   ]
  },
  {
   "cell_type": "markdown",
   "id": "5a839662",
   "metadata": {},
   "source": [
    "__в) [2.5 балла]__ Постройте $95$\\%-ый доверительный интервал для ожидаемого количества свободного места на парковке к концу дня (в метрах)."
   ]
  },
  {
   "cell_type": "code",
   "execution_count": null,
   "id": "b2164ae0",
   "metadata": {},
   "outputs": [],
   "source": [
    "# your code here\n",
    "# ¯\\_(ツ)_/¯"
   ]
  },
  {
   "cell_type": "markdown",
   "id": "fe67f75f",
   "metadata": {},
   "source": [
    "__г) [2.5 балла]__ Проверьте гипотезу, что в конце дня на парковке останется меньше 10 метров свободного места."
   ]
  },
  {
   "cell_type": "code",
   "execution_count": null,
   "id": "5e7d73f4",
   "metadata": {},
   "outputs": [],
   "source": [
    "# your code here\n",
    "# [✖‿✖]"
   ]
  },
  {
   "cell_type": "markdown",
   "id": "b9012366",
   "metadata": {},
   "source": [
    "__д) [5 баллов]__ \n",
    "\n",
    "После возникшего хаоса на парковку добавили регулярную разметку для мест длиной $2$ метра, но водители разделились на два лагеря — тех, кто соблюдает и не соблюдает правила разметки. С вероятностью $p$ приезжает честный водитель и занимает случайное свободное место строго по разметке. Водители второго лагеря паркуются, как раньше. \n",
    "\n",
    "Нарисуйте график, где по оси ординат – процент честных водителей, а по оси абсцисс – процент свободного места на парковке к концу дня для вероятностей $p$ равным от $0$ до $1$ с шагом в $5$\\%. Для каждого порога вероятности проведите по $500$ симуляций."
   ]
  },
  {
   "cell_type": "code",
   "execution_count": null,
   "id": "7ac8754c",
   "metadata": {},
   "outputs": [],
   "source": [
    "# your code here\n",
    "# ┌(ಠ_ಠ)┘"
   ]
  },
  {
   "cell_type": "markdown",
   "id": "079ba3af",
   "metadata": {},
   "source": [
    "### Задача 4: квантильное преобразование (5 баллов)\n",
    "\n",
    "Компьютер хорошо умеет генерировать равномерные случайные величины. Для разных популярных распределений вроде нормального люди также смогли придумать хорошие генераторы. Но что делать, если нам хочется научиться генерировать совершенно любую случайнйю величину? В этом людям помогает квантильное преобразование!\n",
    "\n",
    "#### Теорема:\n",
    "\n",
    "Пусть функция распределения $F_X(x)$ непрерывна. Тогда случайная величина $Y = F(X)$ имеет равномерное распределение на отрезке $[0; 1]$.\n",
    "\n",
    "\n",
    "#### Следствие:\n",
    "\n",
    "Пусть $Y \\sim U[0;1]$, а $F(x)$ произвольная функция распределения. Тогда случайная величина $X = F^{-1}(Y)$ будет иметь функцию распределения $F(x)$.\n",
    "\n",
    "\n",
    "#### Что это нам даёт:\n",
    "\n",
    "\n",
    "- Позволяет генерировать из равномерного распределения другие. Достаточно найти обратную функцию и вычислить её значение от каждого элемента в выборке.\n",
    "- Применимо невсегда, напрмер, для нормального распределения используют другие алгоритмы, так как функцию распределения для него невозможно записать аналитически.\n",
    "\n",
    "<center>\n",
    "<img src=\"https://raw.githubusercontent.com/FUlyankin/matstat-AB/main/week05_LLN_CLT/image/quant.png\" height=\"200\"> \n",
    "</center>\n",
    "\n",
    "\n",
    "__Полезные видео и код:__ \n",
    "\n",
    "- [Видео с объяснением квантильного преобразования](https://www.youtube.com/watch?v=Dxtj-3N22_A&list=PLCf-cQCe1FRyg1ajZ2HJVKknbuTujBOLN&index=9)\n",
    "- [Видео с его использованием в питоне](https://www.youtube.com/watch?v=ivpWyorfWlA&list=PLCf-cQCe1FRyg1ajZ2HJVKknbuTujBOLN&index=10)\n",
    "- [Тетрадка с кодом из видео](https://github.com/FUlyankin/matstat-AB/blob/main/week05_LLN_CLT/09_python_distributions.ipynb)\n",
    "- [Лекция Фила из маги по терверу с подробным разбором квантильного преобразования и выведением функции распределения максимума](https://www.youtube.com/watch?v=vvpRREpe0Bw)\n",
    "- [Выведение функции распределения для максимума в учебнике Черновой](https://tvims.nsu.ru/chernova/tv/lec/node68.html)\n",
    "\n",
    "\n",
    "\n",
    "Пуcть у нас есть стрёмная функция распределения: \n",
    "\n",
    "$$\n",
    "F(x) = \\left( \\frac{\\ln x}{\\ln \\theta} \\right)^{\\alpha},  \\quad x \\in [1; \\theta]\n",
    "$$\n",
    "\n",
    "__а) [2.5 балла]__ Сгенерируйте из него выборку с помощью квантильного преобразования. Параметры $\\alpha$ и $\\theta$ возьмите на свой вкус."
   ]
  },
  {
   "cell_type": "code",
   "execution_count": 44,
   "id": "f3ff5d0b",
   "metadata": {},
   "outputs": [
    {
     "data": {
      "image/png": "[encoded data removed]",
      "text/plain": [
       "<Figure size 432x288 with 1 Axes>"
      ]
     },
     "metadata": {
      "needs_background": "light"
     },
     "output_type": "display_data"
    }
   ],
   "source": [
    "# your code here ʕ•ᴥ•ʔ\n",
    "teta = 20\n",
    "n_obs = 10**6\n",
    "uniform_y = sts.uniform(1, teta)\n",
    "y = uniform_y.rvs(n_obs)\n",
    "x = np.log(y)\n",
    "plt.hist(x, density = True, bins = 50)\n",
    "plt.show()"
   ]
  },
  {
   "cell_type": "markdown",
   "id": "f07c9643",
   "metadata": {},
   "source": [
    "__б) [2.5 балла]__ Пусть случайные величины $X_1, \\ldots, X_n \\sim U[0;1].$ Пусть $Y_n = max(X_1, \\ldots, X_n).$ \n",
    "\n",
    "Мы знаем, что $F_{Y_n}(t) = x^n,$ если $x \\in [0; 1].$ \n",
    "\n",
    "Напишите функцию, которая сгенерирует с помощью квантильного преобразования выборку из распределения $F_{Y_n}(t)$."
   ]
  },
  {
   "cell_type": "code",
   "execution_count": 57,
   "id": "0800fbb0",
   "metadata": {},
   "outputs": [
    {
     "data": {
      "image/png": "[encoded data removed]",
      "text/plain": [
       "<Figure size 432x288 with 1 Axes>"
      ]
     },
     "metadata": {
      "needs_background": "light"
     },
     "output_type": "display_data"
    }
   ],
   "source": [
    "# your code here\n",
    "# ٩(x̯x)۶\n",
    "def function_quantile_transform(n):\n",
    "    n_obs = 10**6\n",
    "    uniform_y = sts.uniform(0, 1)\n",
    "    y = uniform_y.rvs(n_obs)\n",
    "    x = n*(y**(n-1))\n",
    "    return x\n",
    "\n",
    "X = function_quantile_transform(5)\n",
    "plt.hist(X)\n",
    "plt.show()"
   ]
  },
  {
   "cell_type": "markdown",
   "id": "6001b408",
   "metadata": {},
   "source": [
    "### Задача 5: метрика плохих показов (30 баллов)"
   ]
  },
  {
   "cell_type": "markdown",
   "id": "b865a8e8",
   "metadata": {},
   "source": [
    "Мало того, что в интернете постоянно кто-то не прав, так ещё и куча спама, фейков, хейтспича, кликбейта и другого «плохого» контента. Каждая уважающая себя платформа борется с ним. Более того, гиганты вроде Facebook публикуют [transparency-отчёты](https://transparency.fb.com/reports/community-standards-enforcement/) о том, сколько показов «плохого» контента пропустила их система модерации. \n",
    "\n",
    "Давайте прежставим себе, что мы Youtube. Мы хотим, чтобы пользователям как можно реже показывался «плохой» контент. К сожалению, мы не можем сделать ручную разметку всех видео, которые загружают люди. Поток нового видео на платформе постоянно растёт. Нам надо будет поддерживать огромный штат модераторов. Поэтому для каждого нарушения с помощью машинного обучения обычно делают классификаторы. Нейросети пытаются предсказать, есть ли в видео неприемлимый контент. Если его вероятность высокая, видео автоматически банится. Если нейросеть не уверена, видео отправляют на разметку модераторам. Если мы обучим хороший классификатор, подавляющая часть потока будет оставаться без модерации. \n",
    "\n",
    "Параллельно с классификатором мы можем начать размечать модераторами жалобы и самые вирусные видосы. Машинное обучение даёт осечки. Какое-то одно «плохое» видео, пропущенное нашей системой, может набрать много показов. Постмодерация самых вирусных видео и жалоб могут нас от этого спасти. \n",
    "\n",
    "Нам хотелось бы понимать, насколько хорошо работает система модерации. Для этого мы будем оценивать долю «плохих» показов. Если мы показываем видео со спамом, такие показы мы считаем плохими.\n",
    "\n",
    "**Наша задача**  —  получить несмещённую оценку доли плохих показов на youtube, а также построить для неё доверительный интервал. Тогда мы будем видеть, с каким нарушением у нас больше всего проблем, а также сможем придумывать для системы модерации разные улучшения и понимать, насколько они эффективны."
   ]
  },
  {
   "cell_type": "markdown",
   "id": "59afac5d",
   "metadata": {},
   "source": [
    "#### 1. Данные\n",
    "\n",
    "У нас есть данные о просмотре видео на youtube за сутки. Таблица весьма громадная, так как она содержит несколько миллиардов уникальных видео. Мы хотим выбрать из неё тысячу случайных видео, чтобы модераторы разметили их на спам. При этом нужно учесть частоту просмотров. Популярные видео должны иметь больше шансов попасть в подвыборку. Тогда по этой разметке мы сможем оценить долю плохих показов. \n",
    "\n",
    "|      video                         |            shows                  |\n",
    "|:----------------------------------:|:---------------------------------:|\n",
    "| Baby Shark                         |  13 840 000 000                   |\n",
    "| Despacito                          |   8 340 000 000                   |\n",
    "| Johny Johny Yes Papa               |   6 850 000 000                   |\n",
    "| ........                           |   ........                        |\n",
    "| 1. Андан-2024: симуляции           |   2                               |\n",
    "\n",
    "Давайте посчитаем для каждого видео вероятность, что оно будет показно и сделаем `np.random.choice`, как в коде ниже."
   ]
  },
  {
   "cell_type": "code",
   "execution_count": null,
   "id": "1e011d0d",
   "metadata": {},
   "outputs": [],
   "source": [
    "# сгенерируем показы из распределения Парето, чтобы было побольше выбросов как в жизни.\n",
    "n_obs = 10**6\n",
    "\n",
    "b = 0.7\n",
    "rv = sts.pareto(b)\n",
    "shows = np.round(rv.rvs(n_obs))\n",
    "shows"
   ]
  },
  {
   "cell_type": "code",
   "execution_count": null,
   "id": "cc932538",
   "metadata": {},
   "outputs": [],
   "source": [
    "videos = np.arange(1, n_obs + 1) # это id видео\n",
    "videos"
   ]
  },
  {
   "cell_type": "code",
   "execution_count": null,
   "id": "89f6421c",
   "metadata": {},
   "outputs": [],
   "source": [
    "p = shows / shows.sum()\n",
    "p"
   ]
  },
  {
   "cell_type": "code",
   "execution_count": null,
   "id": "21db5060",
   "metadata": {},
   "outputs": [],
   "source": [
    "k = 100\n",
    "np.random.choice(videos, size=k, replace=False, p = p)"
   ]
  },
  {
   "cell_type": "markdown",
   "id": "021deaf1",
   "metadata": {},
   "source": [
    "У такого подхода есть проблема. Если в таблице миллиарды строк, мы не сможем сохранить таблицу в оперативную память. Нам для генерации выборки понадобится супер-компьютер. Хотелось бы этого избежать. К счастью, для решения этой проблемы есть [много алгоритмов,](https://en.wikipedia.org/wiki/Reservoir_sampling) и мы с вами реализуем один из них."
   ]
  },
  {
   "cell_type": "markdown",
   "id": "6ea21d10",
   "metadata": {},
   "source": [
    "#### 2. Сэмплирование с повторениями\n",
    "\n",
    "Для начала поработаем с сэмплированием с повторениями. Сгенерируем таблицу с данными. \n",
    "\n"
   ]
  },
  {
   "cell_type": "code",
   "execution_count": null,
   "id": "9387a096",
   "metadata": {},
   "outputs": [],
   "source": [
    "n_obs = 10**5\n",
    "\n",
    "b = 0.7\n",
    "rv = sts.pareto(b)\n",
    "\n",
    "df = pd.DataFrame.from_dict({\n",
    "    'video_id': np.arange(1, n_obs + 1),\n",
    "    'shows': np.round(rv.rvs(n_obs)),\n",
    "    'is_spam': np.random.binomial(1, 0.01, n_obs), # пусть в 1% видео встречается спам\n",
    "})\n",
    "\n",
    "print(df.shape)\n",
    "df.head()"
   ]
  },
  {
   "cell_type": "markdown",
   "id": "f12344e8",
   "metadata": {},
   "source": [
    "__а) [2.5 балла]__  Посчитайте по табличке `df` истиную долю плохих показов: \n",
    "\n",
    "$$\n",
    "p_{\\text{bad}} = \\frac{\\sum_{v \\in V} \\text{show}(v) \\cdot \\text{is\\_spam}(v) }{\\sum_{v \\in V} \\text{show}(v)}.\n",
    "$$"
   ]
  },
  {
   "cell_type": "code",
   "execution_count": null,
   "id": "f8f9768f",
   "metadata": {},
   "outputs": [],
   "source": [
    "# your code here  ٩(⁎❛ᴗ❛⁎)۶"
   ]
  },
  {
   "cell_type": "markdown",
   "id": "8e574f40",
   "metadata": {},
   "source": [
    "Мы не знаем всех меток $\\text{is\\_spam}(v)$. Мы можем позволить себе разметить маленький сэмпл, $S ⊂ V$. Каждое видео попадает к нам в сэмпл пропорционально числу его показов. Поэтому логично оценить долю плохих показов как \n",
    "\n",
    "$$\n",
    "\\hat{p}_{\\text{bad}} = \\frac{1}{|\\text{S}|}\\sum_{v \\in S} \\text{is\\_spam}(v).\n",
    "$$"
   ]
  },
  {
   "cell_type": "markdown",
   "id": "bb2210a2",
   "metadata": {},
   "source": [
    "__б) [5 баллов]__ С помощью функции `np.random.choice` cделайте $10^4$ выборок __с повторениями__ размера $1000$. \n",
    "\n",
    "Постройте для каждой оценку доли плохих показов. Считайте, что модератор во время разметки безошибочно определяет значение из колонки `is_spam`. \n",
    "\n",
    "Нарисуйте гистограмму для получившегося распределения. Отметьте на ней настоящую долю плохих показов и получившееся у вас среднее. Правда ли, что мы получили несмещённую оценку?\n",
    "\n",
    "**Hint:** Перейдите от `pandas` к `numpy` и обратите внимание на команду `argsort()`. Такой код будет работать быстрее."
   ]
  },
  {
   "cell_type": "code",
   "execution_count": null,
   "id": "ca9b68e5",
   "metadata": {},
   "outputs": [],
   "source": [
    "# your code here  =^･ω･^="
   ]
  },
  {
   "cell_type": "markdown",
   "id": "4eacebab",
   "metadata": {},
   "source": [
    "#### 3. Сэмплирование без повторений\n",
    "\n",
    "Выше мы сказали, что делать `np.random.choice` для огромных таблиц невозможно, так как они не поместятся в оперативную память. \n",
    "\n",
    "Более того, нам надо дать модераторам разметить видео на спам. Многие видео будут повторяться. Уникальных видео каждый раз будет разное количество. Нагрузка на модераторов будет неравномерной. Они будут жаловаться на это. Хочется, чтобы нагрузка всегда была одинаковой.\n",
    "\n",
    "Давайте сменим подход и будем делать **случайную взвешенную выборку БЕЗ ПОВТОРЕНИЙ.** Это означает, что наблюдения зависят друг от друга. Причём корреляция между ними довольно высокая. Это будет приводить к проблемам. "
   ]
  },
  {
   "cell_type": "markdown",
   "id": "24fcc751",
   "metadata": {},
   "source": [
    "Пусть у нас есть $n$ объектов. Мы хотим отобрать $k$ видео для разметки модераторами. Использование `np.random.choice` можно проинтерпретировать следующим образом: \n",
    "\n",
    "1. Напишем название $i-$го видео на разных табличках $\\text{shows}_i$ раз.\n",
    "2. Случайно перемешаем все таблички и положим их в стопку в случайном порядке.\n",
    "3. Будем отбирать самые верхние таблички до тех пор, пока не встретим $k$ разных названий видео."
   ]
  },
  {
   "cell_type": "markdown",
   "id": "f6d92a13",
   "metadata": {},
   "source": [
    "Если бы нам были бы не важны веса в виде показов, каждое видео попадало бы к нам в выборку равновероятно. Мы могли бы отобрать выборку размера $k$ следущим образом: \n",
    "\n",
    "1. Для каждого видео генерируем $X_i \\sim U[0; 1]$ (по одной табличке на видео).\n",
    "2. Сортируем все видео по сгенерированной случайной величине.\n",
    "3. Срезаем топ-k видео в итоговую выборку."
   ]
  },
  {
   "cell_type": "markdown",
   "id": "461280ff",
   "metadata": {},
   "source": [
    "Веса в виде показов для нас важны. В теринах равномерных случайных величин алгоритм с весами можно записать так: \n",
    "\n",
    "1. Для $i$-го видео генерируем $\\text{shows}_i$ независимых равномерных случайных величин (для каждого видео свое число табличек). \n",
    "2. Складываем все таблички в одну стопку и сортируем их по сгенерированным величинам.\n",
    "3. Идём по массиву от больших элементов к меньшим и отбираем видео, пока не накопим $k$ элементов."
   ]
  },
  {
   "cell_type": "markdown",
   "id": "a8e24fc7",
   "metadata": {},
   "source": [
    "Очень не хочется для какого-нибудь популярного видео генерировать несколько миллиардов случайных чисел. Конечно же, сразу нужно генерировать случайную величину, которая будет максимумом нескольких независимых равномерных случайных величин. На итоговую сортировку это никак не повлияет. Мы отберём те же самые видео.  \n",
    "\n"
   ]
  },
  {
   "cell_type": "markdown",
   "id": "4b90d075",
   "metadata": {},
   "source": [
    "Сгенерировать для каждого видео $X_{i,max}$ можно с помощью квантильного преобразования. \n",
    "\n",
    "Пусть случайные величины $X_1, \\ldots, X_m \\sim \\text{iid} \\, U[0;1].$ Пусть $Y = \\max(X_1, \\ldots, X_m).$ \n",
    "\n",
    "Мы знаем, что $F_{Y}(t) = x^m,$ если $x \\in [0; 1].$ Выборку из распределения $F_{Y}(t)$ можно сгенерировать в два шага: \n",
    "\n",
    "- $x_1, \\ldots, x_m \\sim \\text{iid} \\, U[0;1]$\n",
    "- $y_i = x_i^{\\frac{1}{m}}$\n",
    "\n",
    "__в) [2.5 балла]__ Фактически нам надо отсортировать все видео по величине $X_i^{\\frac{1}{\\text{shows}_i}}$, где $X_i \\sim U[0;1]$, и отобрать топ-$k$ видео в выборку для разметки модераторами. Сделайт, используя эту процедуру, для таблицы `df` сэмпл размера $100$."
   ]
  },
  {
   "cell_type": "code",
   "execution_count": null,
   "id": "46cd75c6",
   "metadata": {},
   "outputs": [],
   "source": [
    "# your code here  (ﾉ´ з `)ノ"
   ]
  },
  {
   "cell_type": "markdown",
   "id": "c38c245f",
   "metadata": {},
   "source": [
    "__г) [2.5 балла]__ Вычислять на компьютере корни из числа, лежащего между 0 и 1 не очень удобно с точки зрения округления.\n",
    "\n",
    "Гораздо эффективнее отобрать топ по величине $\\frac{1}{\\text{shows}_i} \\cdot \\ln X_i$, где $X_i \\sim U[0;1]$. Проделайте это."
   ]
  },
  {
   "cell_type": "code",
   "execution_count": null,
   "id": "199a9358",
   "metadata": {},
   "outputs": [],
   "source": [
    "# your code here ( ⚆ ω ⚆)"
   ]
  },
  {
   "cell_type": "markdown",
   "id": "7bd49407",
   "metadata": {},
   "source": [
    "Такую процедуру можно найти в проде у многих компаний. В Яндексе похожая процедура используется для сэмплирования поисковых запросов для дальнейшей разметки. [В статье](https://yadi.sk/i/IxKLPFEj3TSpPe) можно найти доказательство того, что алгоритм даст корректную вероятность для каждого видео.\n",
    "\n",
    "В примере выше мы держим табличку в оперативной памяти компьютера. Это игрушечный пример и это позволительно. В реальной жизни мы можем считывать строки с жесткого диска, для каждой из них по очереди генерировать случайную величину и поддерживать топ-к уникальных видео в памяти. Например, в этом может помочь такая структура данных [как куча.](https://ru.wikipedia.org/wiki/Куча_(структура_данных)) "
   ]
  },
  {
   "cell_type": "markdown",
   "id": "5c725136",
   "metadata": {},
   "source": [
    "#### 4. Оценка доли плохих показов\n",
    "\n",
    "Дальше нам остаётся разметить видео и аккуратно посчитать итоговую метрику. Беда будет в том, что она окажется смещённой. "
   ]
  },
  {
   "cell_type": "markdown",
   "id": "4e24fabe",
   "metadata": {},
   "source": [
    "__д) [2.5 балла]__ Сделайте $10^4$ выборок размера $1000$. Постройте для каждой оценку доли плохих показов. Считайте, что модератор во время разметки безошибочно определяет значение из колонки `is_spam`. \n",
    "\n",
    "Нарисуйте гистограмму для получившегося распределения. Отметьте на ней настоящую долю плохих показов и получившееся у вас среднее. Правда ли, что они сильно отличаются друг от друга? Найдите среднее смещение оценки."
   ]
  },
  {
   "cell_type": "code",
   "execution_count": null,
   "id": "ff992280",
   "metadata": {},
   "outputs": [],
   "source": [
    "# your code here\n",
    "# (´｡• ᵕ •｡`)"
   ]
  },
  {
   "cell_type": "markdown",
   "id": "9b820f32",
   "metadata": {},
   "source": [
    "**Откуда появляется это смещение?** Представим себе, что у нас есть случайная величина $X$, которая принмает пять значений с вероятностями \n",
    "\n",
    "<center>\n",
    "\n",
    "|  $X$         | $x_1$   | $x_2$ | $x_3$ | $x_4$    | $x_5$    |\n",
    "|:------------:|:-------:|:-----:|:-----:|:--------:|:--------:|\n",
    "| $P(X = x)$   | $^1/_2$ |$^1/_4$|$^1/_8$|$^1/_{16}$|$^1/_{16}$|\n",
    "\n",
    "</center>\n",
    "\n",
    "Если мы делаем выборку с повторениями, как часто туда будет попадать элемент $x_1$? Элемент попадает в выборку с вероятностью $^1/_2.$ Будем вытаскивать из выборки элементы до тех пор, пока $x_1$ не окажется в наших руках. Номер попытки, начиная с которой $x_1$ окажется у нас, имеет геометрическое распределение. Если $Y \\sim \\text{Geom}(p),$ тогда $\\mathbb{E}(Y) = \\frac{1}{p}.$ \n",
    "\n",
    "Получается, элемент $x_1$ окажется в нашей выборке в среднем на второй попытке. Учитывая, что мы делаем выборку с повторениями, каждый второй элемент в ней будет принимать значение $x_1,$  каждый четвёртый будет принимать значение $x_2$, каждый восьмой будет принимать значение $x_3$ и так далее. Обратим внимание, что если мы делаем выборку из трёх элементов без повторений, то чаще всего мы будем работать с выборкой $x_1, x_2, x_3$. \n",
    "\n",
    "В ситуации с видео, мы сэмплируем их пропорционально числу показов. В числе показов может быть очень сильный перекос. Какие-то видео показываются в рекомендательной системе десятки раз, а какие-то вирусятся и прорываются в тренды. Каждый раз, когда мы без возвращения берём новое видео в выборку, мы занижаем его присутствие в итоговой выборке.\n"
   ]
  },
  {
   "cell_type": "markdown",
   "id": "4290bb25",
   "metadata": {},
   "source": [
    "#### 5. Исправляем смещение\n",
    "\n",
    "На выборку без повторений размера $n$ можно смотреть следующим образом: мы генерируем выборку с возвращением до тех пор, пока количество уникальных элементов не достигнет числа $n$. При этом, если мы берём на каком-то шаге элемент уже выбранный ранее, мы не включаем его в выборку, а только отдельно запоминаем где-нибудь счётчик числа вхождений этого элемента $c_i$. При таком подходе несмещённую оценку доли плохого можно записать как \n",
    "\n",
    "$$\n",
    "\\hat{p}_{\\text{bad}} = \\frac{\\sum_{i=1}^{n} c_i \\cdot \\text{is\\_spam}(v_i)}{\\sum_{i=1}^{n} c_i.}\n",
    "$$\n",
    "\n",
    "Если выборка имеет сильно неравномерные веса, то нам придётся довольно долго генерировать элементы с возвращением, пока мы наберём необходимое количество уникальных. \n",
    "\n",
    "Поэтому вместо того, чтобы накапливать счётчики вхождений, мы рассчитаем их математическое ожидание по всем сгенерированным выборкам без повторений, имеющим такое же упорядоченное множество элементов $w_i = \\mathbb{E}(c_i).$\n",
    "\n",
    "Пусть $q_i = \\frac{show(v_i)}{\\sum_{j=1}^{|V|} show(v_j)}$,пусть $w_i^k$ —  количество вхождений элемента с индексом $i$ к моменту, когда в выборке набралось $k$ уникальных элементов. Пусть уникальные элементы попадают в выборку в порядке $v_1, v_2, v_3, \\ldots, v_n$. \n",
    "\n",
    "Когда мы возьмём первый элемент: \n",
    "\n",
    "$$\n",
    "w_1^1 =1, \\quad w_2^1 = 0, \\quad w_3^1 = 0, \\quad \\ldots, \\quad w_n^1 = 0.\n",
    "$$\n",
    "\n",
    "Прежде, чем мы достанем второй уникальный элемент, мы в среднем достанем первый элемент ещё  $\\frac{1}{1 - q_1} - 1 = \\frac{q_1}{1 - q_1}$ раз. \n",
    "\n",
    "Эту величину мы посчитали с помощью геометрического распределения. В качестве успешного события мы рассматриваем второй уникальный элемент. Вероятность успеха равна $1- q_1.$ Геометрическая случайная величина представляет из себя номер первого успешного события. Если мы хотим получить число не успешных событий, надо вычесть единицу.\n",
    "\n",
    "Получаем\n",
    "\n",
    "$$\n",
    "w_1^2 = 1 + \\frac{q_1}{1 - q_1}, \\quad w_2^2 = 1, \\quad w_3^2 = 0, \\quad \\ldots, \\quad w_n^2 = 0.\n",
    "$$\n",
    "\n",
    "Прежде, чем мы достанем третий уникальный элемент, мы в среднем достанем первые два элемента ещё $\\frac{1}{1 - (q_1 + q_2)} - 1 = \\frac{q_1 + q_2}{1 - (q_1 + q_2)}$ раз. Из них доля доставания первого элемента составляет $\\frac{q_1}{q_1 + q_2}$, а доля второго $\\frac{q_2}{q_1 + q_2}$. \n",
    "\n",
    "Получаем \n",
    "\n",
    "$$\n",
    "w_1^3 = 1 + \\frac{q_1}{1 - q_1} + \\frac{q_1}{1 - (q_1 + q_2)}, \\quad w_2^3 = 1 + \\frac{q_2}{1 - (q_1 + q_2)}, \\quad  w_3^3 = 1, \\quad \\ldots, \\quad w_n^3 = 0.\n",
    "$$\n",
    "\n",
    "Продолжая эту логику до шага $n$ получаем формулу \n",
    "\n",
    "$$\n",
    "c_i = w_i^n = 1 + q_i \\cdot \\left( \\sum_{j=i}^{n-1} \\frac{1}{1 - \\sum_{k=1}^j q_k} \\right).\n",
    "$$\n",
    "\n",
    "Подставим эти веса вместо счетчиков $c_i$. Это даст нам несмещённую оценку доли «пдохих» показов на основе разметки ровно $n$ объектов\n",
    "\n",
    "$$\n",
    "\\hat p_{\\text{bad}} = \\frac{\\sum_{i=1}^n \\left[ 1 + q_i \\cdot \\left( \\sum_{j=i}^{n-1} \\frac{1}{1 - \\sum_{k=1}^j q_k} \\right) \\right] \\cdot has\\_spam(v_i)}{\\sum_{i=1}^n \\left[ 1 + q_i \\cdot \\left( \\sum_{j=i}^{n-1} \\frac{1}{1 - \\sum_{k=1}^j q_k} \\right)  \\right]},  \\quad q_i = \\frac{show(v_i)}{\\sum_{j=1}^{|V|} show(v_j)}.\n",
    "$$\n",
    "\n"
   ]
  },
  {
   "cell_type": "markdown",
   "id": "0b13032a",
   "metadata": {},
   "source": [
    "__е) [5 баллов]__ Сделайте $1000$ выборок без повторений размера $1000$. Постройте для каждой оценку доли плохих показов. Убедитесь, что оценка предложенная выше окажется несмещённой.\n",
    "\n",
    "**Hint:** для расчёта весов удобно воспользоваться несколько раз функцией `np.cumsum`."
   ]
  },
  {
   "cell_type": "code",
   "execution_count": null,
   "id": "3c389472",
   "metadata": {},
   "outputs": [],
   "source": [
    "# your code here\n",
    "# (￢_￢) "
   ]
  },
  {
   "cell_type": "markdown",
   "id": "90e4c847",
   "metadata": {},
   "source": [
    "#### 6. Доверительный интервал \n",
    "\n",
    "Про долю плохих заказов надо уметь делать выводы. Для этого надо построить доверительный интервал. Для него нужна дисперсия. Все карточки размечаются модераторами незвисимо друг от друга. Получается, что дисперсию можно найти как \n",
    "\n",
    "$$\n",
    "\\text{Var}(\\hat p_{\\text{bad}}) = \\frac{\\sum_{i=1}^n c^2_i \\cdot \\text{Var}(\\text{is\\_spam}(v_i))}{\\left(\\sum_{i=1}^n c_i\\right)^2} = \\frac{\\sum_{i=1}^n c^2_i}{\\left(\\sum_{i=1}^n c_i\\right)^2} \\cdot p_{\\text{bad}} \\cdot (1 - p_{\\text{bad}})\n",
    "$$\n",
    "\n",
    "Видно, что если сэмпл занимает небольшую долю выборки и показы распределены между элементами достаточно равномерно, то веса $c_i$ будут несильно отличаться от $1$. Тогда асимптотически по мере роста размера сэмпла стандартное отклонение метрики будет падать как $\\frac{1}{\\sqrt{n}}.$ \n",
    "\n",
    "Однако, если существенная доля показов в рекомендательной ленте представлена небольшой группой видосов, тогда веса будут существенно различаться и начиная с определённого момента увеличение размера выборки не будет давать заметного снижения разброса в оценке доли плохих показов."
   ]
  },
  {
   "cell_type": "markdown",
   "id": "d025111a",
   "metadata": {},
   "source": [
    "__ё) [5 баллов]__ Сделайте $1000$ выборок без повторений размера $1000$. Постройте по каждой $95\\%$ доверительный интервал для доли плохих показов. \n",
    "\n",
    "Убедитесь, что он действительно покрывает долю плохих показов с вероятностью $0.95$."
   ]
  },
  {
   "cell_type": "code",
   "execution_count": null,
   "id": "eaeef1bc",
   "metadata": {},
   "outputs": [],
   "source": [
    "# your code here\n",
    "# (＠_＠)"
   ]
  },
  {
   "cell_type": "markdown",
   "id": "f6a15e7f",
   "metadata": {},
   "source": [
    "__ж) [5 баллов]__ Попробуйте в настройках эксперимента поменять долю спама в выборке с $1%$ до $80\\$. Что произойдёт с дисперсией и смещением? \n",
    "\n",
    "__Ваш ответ:__ "
   ]
  },
  {
   "cell_type": "markdown",
   "id": "2368a66c",
   "metadata": {},
   "source": [
    "#### 7. Уменьшение дисперсии с помощью машинного обучения\n",
    "\n",
    "Этот раздел вам нужно просто проичитать. Вы уже достаточно настрадались, решая пункты выше.\n",
    "\n",
    "Когда для маленькая, дисперсия оценки доли будет довольно высокой. Относительная ошибка в оценке быстро растёт при уменьшении доли размечаемых видосов, содержащих спам\n",
    "\n",
    "$$\n",
    "\\frac{\\sigma}{p_{\\text{bad}}} \\approx \\frac{\\sqrt{ p_{\\text{bad}} \\cdot (1 -  p_{\\text{bad}})/n} }{ p_{\\text{bad}} } \\approx \\frac{1}{\\sqrt{n \\cdot p_{\\text{bad}}}}.\n",
    "$$\n",
    "\n",
    "Например, если реальная доля показов, содержащих спам составляет $0.5\\%,$ то при разметке выборки из $1000$ видео стандартное отклонение составить $0.22\\%$ и положительную метку будут обычно получать $3-7$ видео, а наша оценка доли спама будет колебаться в пределах $(0.5 \\pm 0.22)\\%.$ При таком уровне шума отслеживать эффект от введения различных улучшений в пайплайнах модерации становится практически невозможно. \n",
    "\n",
    "Однако, если бы у нас существовал способ повысить долю просэмплированных видео с положительной разметкой в сто раз, то мы бы получили оценку доли плохого в сэмпле равную $(50 \\pm 1.6)\\%.$ \n",
    "\n",
    "Принимая во внимание, что при построении сэмпла мы завысили долю плохого в сто раз, получаем, что реальная доля плохого составит  $(0.5 \\pm 0.016)\\%.$ То есть с помощью приоритизации мы могли бы снизить разброс примерно в $14$ раз. \n",
    "\n",
    "На практике мы не можем заранее угадать какие видео будут размечены как плохие. Однако у нас есть ML-модели, предсказываютщие подозрительность видео. Например, вероятность того, что видос относится к плохому классу, $\\text{score}(v_i)$.\n",
    "\n",
    "Для того, чтобы сделать размечаемую выборку более представительной по классам, но при этом сохранить репрезентативность по потоку, повысим вероятность сэмплирования видео с высоким уровнем подозрительности.\n",
    "\n",
    "Чтобы после этого по разметке сэмпла оценить долю плохого на потоке, нам нужно обратно изменить веса видео, чтобы величины соотвествовали ожидаемым значениям без перевзвешивания. Новые веса в формуле будут равны \n",
    "\n",
    "$$\n",
    "c_i = \\sum_{i=1}^n  \\frac{1 + q_i \\cdot \\left( \\sum_{j=i}^{n-1} \\frac{1}{1 - \\sum_{k=1}^j q_k}\\right)}{\\text{score}(v_i)}, \\quad q_i = \\frac{\\text{show}(v_i)}{\\sum_{j=1}^{|V|} \\text{show}(v_j)}\n",
    "$$\n",
    "\n",
    "Оценка доли будет искаться как \n",
    "\n",
    "$$\n",
    "\\hat p_{spam} = \\frac{\\sum_{i=1}^n c_i \\cdot \\text{is\\_spam}(v_i)}{\\sum_{i=1}^n c_i}.\n",
    "$$\n",
    "\n",
    "Аналогично дисперсия такой оценки будет иметь вид \n",
    "\n",
    "$$\n",
    "\\text{Var}(\\hat p_{\\text{bad}}) = \\frac{\\sum_{i=1}^n c^2_i \\cdot \\text{Var}(\\text{is\\_spam}(v_i))}{\\left(\\sum_{i=1}^n c_i\\right)^2}.\n",
    "$$\n",
    "\n",
    "В формуле дисперсии $\\text{Var}(\\text{is\\_spam}(v_i))$ уже нельзя считать одинаковыми, так как есть зависимость между весом объекта, обусловленным $score(v_i)$ и дисперсией бернулиевской случайной величины $\\text{is\\_spam}(v_i).$ \n",
    "\n",
    "Если предсказывающая модель обучена в точности на реальном распределении, наблюдаемом в потоке, то можно считать, что $\\text{score}(v_i) = \\mathbb{P}(\\text{is\\_spam}(v_i) = 1).$ \n",
    "\n",
    "Тогда \n",
    "\n",
    "$$\n",
    "\\text{Var}(\\text{is\\_spam}(v_i)) = \\mathbb{P}(\\text{is\\_spam}(v_i) = 1) \\cdot \\mathbb{P}(\\text{is\\_spam}(v_i) = 0) = \\text{score}(v_i) \\cdot (1 - \\text{score}(v_i)).\n",
    "$$\n",
    "\n",
    "Модель должна быть в таком случае [откалибрована.](https://github.com/esokolov/ml-course-hse/blob/master/2022-fall/seminars/sem06-calibration.ipynb)\n",
    "\n",
    "Если откалибровать модель не представляется возможным,тогда можно оценить математическое ожидание и дисперсию элемента на основе исторических данных по разметке элементов с похожими предсказаниями модели. \n",
    "\n",
    "Если для какого-то объекта по каким-то причинам отсутствует $\\text{score}(v_i),$ то при сэмплировании мы можем вставить ему произвольный вес и использовать верхнюю оценку на дисперсию бернуллиевской случайной величины, $\\text{Var}(\\text{is\\_spam}(v_i)) \\le 0.25.$"
   ]
  }
 ],
 "metadata": {
  "kernelspec": {
   "display_name": "Python 3 (ipykernel)",
   "language": "python",
   "name": "python3"
  },
  "language_info": {
   "codemirror_mode": {
    "name": "ipython",
    "version": 3
   },
   "file_extension": ".py",
   "mimetype": "text/x-python",
   "name": "python",
   "nbconvert_exporter": "python",
   "pygments_lexer": "ipython3",
   "version": "3.9.7"
  }
 },
 "nbformat": 4,
 "nbformat_minor": 5
}
